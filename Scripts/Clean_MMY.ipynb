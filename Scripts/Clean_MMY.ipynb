{
 "cells": [
  {
   "cell_type": "code",
   "execution_count": 1,
   "metadata": {},
   "outputs": [],
   "source": [
    "import pandas as pd"
   ]
  },
  {
   "cell_type": "code",
   "execution_count": 2,
   "metadata": {},
   "outputs": [],
   "source": [
    "csv=\"../Resources/final_mpg.csv\"\n",
    "csv2=\"../Resources/final_car.csv\""
   ]
  },
  {
   "cell_type": "code",
   "execution_count": 3,
   "metadata": {},
   "outputs": [],
   "source": [
    "mpg=pd.read_csv(csv)\n",
    "car=pd.read_csv(csv2)"
   ]
  },
  {
   "cell_type": "code",
   "execution_count": 4,
   "metadata": {},
   "outputs": [],
   "source": [
    "#pull only the make model and year\n",
    "mpg2 = mpg.iloc[:,0:3]\n",
    "car2 = car.iloc[:,0:3]"
   ]
  },
  {
   "cell_type": "code",
   "execution_count": 5,
   "metadata": {},
   "outputs": [
    {
     "data": {
      "text/html": [
       "<div>\n",
       "<style scoped>\n",
       "    .dataframe tbody tr th:only-of-type {\n",
       "        vertical-align: middle;\n",
       "    }\n",
       "\n",
       "    .dataframe tbody tr th {\n",
       "        vertical-align: top;\n",
       "    }\n",
       "\n",
       "    .dataframe thead th {\n",
       "        text-align: right;\n",
       "    }\n",
       "</style>\n",
       "<table border=\"1\" class=\"dataframe\">\n",
       "  <thead>\n",
       "    <tr style=\"text-align: right;\">\n",
       "      <th></th>\n",
       "      <th>make</th>\n",
       "      <th>model</th>\n",
       "      <th>year</th>\n",
       "    </tr>\n",
       "  </thead>\n",
       "  <tbody>\n",
       "    <tr>\n",
       "      <td>0</td>\n",
       "      <td>acura</td>\n",
       "      <td>tl</td>\n",
       "      <td>2012</td>\n",
       "    </tr>\n",
       "    <tr>\n",
       "      <td>1</td>\n",
       "      <td>jaguar</td>\n",
       "      <td>xf</td>\n",
       "      <td>2011</td>\n",
       "    </tr>\n",
       "    <tr>\n",
       "      <td>2</td>\n",
       "      <td>honda</td>\n",
       "      <td>element</td>\n",
       "      <td>2004</td>\n",
       "    </tr>\n",
       "    <tr>\n",
       "      <td>3</td>\n",
       "      <td>chevrolet</td>\n",
       "      <td>silverado k2500hd</td>\n",
       "      <td>2016</td>\n",
       "    </tr>\n",
       "    <tr>\n",
       "      <td>4</td>\n",
       "      <td>kia</td>\n",
       "      <td>sportage</td>\n",
       "      <td>2015</td>\n",
       "    </tr>\n",
       "    <tr>\n",
       "      <td>...</td>\n",
       "      <td>...</td>\n",
       "      <td>...</td>\n",
       "      <td>...</td>\n",
       "    </tr>\n",
       "    <tr>\n",
       "      <td>463008</td>\n",
       "      <td>mazda</td>\n",
       "      <td>cx-5</td>\n",
       "      <td>2015</td>\n",
       "    </tr>\n",
       "    <tr>\n",
       "      <td>463009</td>\n",
       "      <td>nissan</td>\n",
       "      <td>frontier</td>\n",
       "      <td>2016</td>\n",
       "    </tr>\n",
       "    <tr>\n",
       "      <td>463010</td>\n",
       "      <td>bmw</td>\n",
       "      <td>335i</td>\n",
       "      <td>2010</td>\n",
       "    </tr>\n",
       "    <tr>\n",
       "      <td>463011</td>\n",
       "      <td>dodge</td>\n",
       "      <td>dart</td>\n",
       "      <td>2015</td>\n",
       "    </tr>\n",
       "    <tr>\n",
       "      <td>463012</td>\n",
       "      <td>gmc</td>\n",
       "      <td>acadia</td>\n",
       "      <td>2008</td>\n",
       "    </tr>\n",
       "  </tbody>\n",
       "</table>\n",
       "<p>463013 rows × 3 columns</p>\n",
       "</div>"
      ],
      "text/plain": [
       "             make              model  year\n",
       "0           acura                 tl  2012\n",
       "1          jaguar                 xf  2011\n",
       "2           honda            element  2004\n",
       "3       chevrolet  silverado k2500hd  2016\n",
       "4             kia           sportage  2015\n",
       "...           ...                ...   ...\n",
       "463008      mazda               cx-5  2015\n",
       "463009     nissan           frontier  2016\n",
       "463010        bmw               335i  2010\n",
       "463011      dodge               dart  2015\n",
       "463012        gmc             acadia  2008\n",
       "\n",
       "[463013 rows x 3 columns]"
      ]
     },
     "execution_count": 5,
     "metadata": {},
     "output_type": "execute_result"
    }
   ],
   "source": [
    "car2"
   ]
  },
  {
   "cell_type": "code",
   "execution_count": 6,
   "metadata": {},
   "outputs": [],
   "source": [
    "#get a df with only unique make model and year\n",
    "mpg3 = mpg2.drop_duplicates()\n",
    "car3 = car2.drop_duplicates()"
   ]
  },
  {
   "cell_type": "code",
   "execution_count": 7,
   "metadata": {},
   "outputs": [],
   "source": [
    "#combine the data\n",
    "mmy = mpg3.append(car3, ignore_index=True)"
   ]
  },
  {
   "cell_type": "code",
   "execution_count": 8,
   "metadata": {},
   "outputs": [],
   "source": [
    "#Make sure everything is lower case\n",
    "mmy[\"make\"] = mmy[\"make\"].str.lower()\n",
    "mmy[\"model\"] = mmy[\"model\"].str.lower()"
   ]
  },
  {
   "cell_type": "code",
   "execution_count": 9,
   "metadata": {},
   "outputs": [],
   "source": [
    "#once again drop duplicates\n",
    "mmy2 = mmy.drop_duplicates()"
   ]
  },
  {
   "cell_type": "code",
   "execution_count": 10,
   "metadata": {},
   "outputs": [],
   "source": [
    "#Check for any missing data data \n",
    "all_na = []\n",
    "for i in range(3):\n",
    "    #False treated as 0, true treated as 1\n",
    "    na_count = mmy2.iloc[:,i].isnull().values.sum()\n",
    "    colname = mmy2.columns[i]\n",
    "    percent_na = round((na_count/len(mmy2))*100,2)\n",
    "    \n",
    "    col_na = {\n",
    "        'colname': colname,\n",
    "        'na_count': na_count,\n",
    "        'percent_na': percent_na\n",
    "        }\n",
    "    \n",
    "    all_na.append(col_na)"
   ]
  },
  {
   "cell_type": "code",
   "execution_count": 11,
   "metadata": {},
   "outputs": [
    {
     "data": {
      "text/plain": [
       "[{'colname': 'make', 'na_count': 0, 'percent_na': 0.0},\n",
       " {'colname': 'model', 'na_count': 0, 'percent_na': 0.0},\n",
       " {'colname': 'year', 'na_count': 0, 'percent_na': 0.0}]"
      ]
     },
     "execution_count": 11,
     "metadata": {},
     "output_type": "execute_result"
    }
   ],
   "source": [
    "all_na"
   ]
  },
  {
   "cell_type": "code",
   "execution_count": 12,
   "metadata": {},
   "outputs": [],
   "source": [
    "#save to csv\n",
    "mmy2.to_csv('../Resources/final_mmy.csv', index=False)"
   ]
  },
  {
   "cell_type": "code",
   "execution_count": null,
   "metadata": {},
   "outputs": [],
   "source": []
  }
 ],
 "metadata": {
  "kernelspec": {
   "display_name": "Python 3",
   "language": "python",
   "name": "python3"
  },
  "language_info": {
   "codemirror_mode": {
    "name": "ipython",
    "version": 3
   },
   "file_extension": ".py",
   "mimetype": "text/x-python",
   "name": "python",
   "nbconvert_exporter": "python",
   "pygments_lexer": "ipython3",
   "version": "3.7.4"
  }
 },
 "nbformat": 4,
 "nbformat_minor": 4
}
